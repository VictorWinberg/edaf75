{
 "cells": [
  {
   "cell_type": "markdown",
   "metadata": {},
   "source": [
    "# Lab 1 - SQL\n",
    "\n",
    "*Objective:* to practice writing SQL queries.\n",
    "\n",
    "To run this lab as a `jupyter` notebook, you can download it\n",
    "[here](lab1.zip) (the zip-file contains the notebook and the\n",
    "database).\n",
    "\n",
    "## Background\n",
    "\n",
    "We have a database to handles the academic achievements of\n",
    "students at LTH -- in it we have three tables:\n",
    "\n",
    "* `students` -- contains student data:\n",
    "   - `ssn` -- social security number ('personnummer')\n",
    "   - `first_name`\n",
    "   - `last_name`\n",
    "\n",
    "\n",
    "* `courses` -- describes the courses:\n",
    "   - `course_code`\n",
    "   - `course_name`\n",
    "   - `level` (\"G1\", \"G2\", or \"A\")\n",
    "   - `credits`\n",
    "\n",
    "  \n",
    "* `taken_courses` -- keeps track of which courses the\n",
    "   students have taken, once a student has passed a course,\n",
    "   we add a row in this table:\n",
    "   - `ssn` -- the social security number of the student\n",
    "   - `course_code` -- what course has been taken\n",
    "   - `grade`\n",
    "\n",
    "![There should be an image here](lab1.png)\n",
    "\n",
    "Some sample data:"
   ]
  },
  {
   "cell_type": "markdown",
   "metadata": {},
   "source": [
    "~~~ {.text}\n",
    "ssn           first_name   last_name\n",
    "---           ----------   ---------\n",
    "861103–2438   Bo           Ek\n",
    "911212–1746   Eva          Alm\n",
    "950829–1848   Anna         Nyström\n",
    "...           ...          ...\n",
    "\n",
    "course_code   course_name                   level    credits\n",
    "-----------   -----------                   -----    -------\n",
    "EDA016        Programmeringsteknik          G1       7.5\n",
    "EDAA01        Programmeringsteknik - FK     G1       7.5\n",
    "EDA230        Optimerande kompilatorer      A        7.5\n",
    "...           ...                           ...      ...\n",
    "\n",
    "ssn           course_code   grade\n",
    "---           -----------   -----\n",
    "861103–2438   EDA016        4\n",
    "861103–2438   EDAA01        3\n",
    "911212–1746   EDA016        3\n",
    "...           ...           ...\n",
    "~~~\n"
   ]
  },
  {
   "cell_type": "markdown",
   "metadata": {},
   "source": [
    "The tables have been created with the following SQL\n",
    "statements:"
   ]
  },
  {
   "cell_type": "markdown",
   "metadata": {},
   "source": [
    "~~~ {.sql}\n",
    "CREATE TABLE students (\n",
    "  ssn          CHAR(11),\n",
    "  first_name   TEXT NOT NULL,\n",
    "  last_name    TEXT NOT NULL,\n",
    "  PRIMARY KEY  (ssn)\n",
    ");\n",
    "\n",
    "CREATE TABLE courses (\n",
    "  course_code   CHAR(6),\n",
    "  course_name   TEXT NOT NULL,\n",
    "  level         CHAR(2),\n",
    "  credits       DOUBLE NOT NULL CHECK (credits > 0),\n",
    "  PRIMARY KEY   (course_code)\n",
    ");\n",
    "\n",
    "CREATE TABLE taken_courses (\n",
    "  ssn           CHAR(11),\n",
    "  course_code   CHAR(6),\n",
    "  grade         INTEGER NOT NULL CHECK (grade >= 3 AND grade <= 5),\n",
    "  PRIMARY KEY   (ssn, course_code),\n",
    "  FOREIGN KEY   (ssn) REFERENCES students(ssn),\n",
    "  FOREIGN KEY   (course_code) REFERENCES courses(course_code)\n",
    ");\n",
    "~~~\n"
   ]
  },
  {
   "cell_type": "markdown",
   "metadata": {},
   "source": [
    "All courses offered at the \"Computer Science and\n",
    "Engineering\" program at LTH during the academic year 2013/14\n",
    "are in the table 'courses`. Also, the database has been\n",
    "filled with made up data. SQL statements like the following\n",
    "have been used to insert the data:"
   ]
  },
  {
   "cell_type": "markdown",
   "metadata": {},
   "source": [
    "~~~ {.sql}\n",
    "INTO   students (ssn, first_name, last_name)\n",
    "VALUES ('950705-2308', 'Anna', 'Johansson'),\n",
    "       ('930702-3582', 'Anna', 'Johansson'),\n",
    "       ('911212-1746', 'Eva', 'Alm'),\n",
    "       ('910707-3787', 'Eva', 'Nilsson'),\n",
    "       ...\n",
    "~~~\n"
   ]
  },
  {
   "cell_type": "markdown",
   "metadata": {},
   "source": [
    "## Assignments"
   ]
  },
  {
   "cell_type": "code",
   "execution_count": null,
   "metadata": {},
   "outputs": [],
   "source": [
    "%load_ext sql"
   ]
  },
  {
   "cell_type": "code",
   "execution_count": null,
   "metadata": {},
   "outputs": [],
   "source": [
    "%sql sqlite:///lab1.sqlite"
   ]
  },
  {
   "cell_type": "markdown",
   "metadata": {},
   "source": [
    "The tables `students`, `courses` and `taken_courses` already\n",
    "exist in your database. If you change the contents of the\n",
    "tables, you can always recreate the tables with the\n",
    "following command (at the mysql prompt):"
   ]
  },
  {
   "cell_type": "markdown",
   "metadata": {},
   "source": [
    "~~~ {.sh}\n",
    "sqlite3 lab1.db < setup-lab1-db.sql\n",
    "~~~\n"
   ]
  },
  {
   "cell_type": "markdown",
   "metadata": {},
   "source": [
    "After some of the questions there is a number in brackets.\n",
    "This is the number of rows generated by the question. For\n",
    "instance, [72] after question a) means that there are 72\n",
    "students in the database.\n",
    "\n",
    "a) What are the names (first name, last name) of all the\n",
    "   students? [72]"
   ]
  },
  {
   "cell_type": "code",
   "execution_count": null,
   "metadata": {},
   "outputs": [],
   "source": [
    "%%sql\n"
   ]
  },
  {
   "cell_type": "markdown",
   "metadata": {},
   "source": [
    "b) Same as question a) but produce a sorted listing. Sort\n",
    "   first by last name and then by first name."
   ]
  },
  {
   "cell_type": "code",
   "execution_count": null,
   "metadata": {
    "attributes": {
     "classes": [
      "clear"
     ],
     "id": ""
    }
   },
   "outputs": [],
   "source": [
    "%%sql\n"
   ]
  },
  {
   "cell_type": "markdown",
   "metadata": {},
   "source": [
    "c) What are the names of the students who were born in 1985?\n",
    "   [4]"
   ]
  },
  {
   "cell_type": "code",
   "execution_count": null,
   "metadata": {
    "attributes": {
     "classes": [
      "clear"
     ],
     "id": ""
    }
   },
   "outputs": [],
   "source": [
    "%%sql\n"
   ]
  },
  {
   "cell_type": "markdown",
   "metadata": {},
   "source": [
    "d) The next-to-last digit in the social security number is\n",
    "   even for females, and odd for males. List the names of\n",
    "   all female students in our database. Hint: the `SUBSTR`\n",
    "   function can be useful. [26]"
   ]
  },
  {
   "cell_type": "code",
   "execution_count": null,
   "metadata": {
    "attributes": {
     "classes": [
      "clear"
     ],
     "id": ""
    }
   },
   "outputs": [],
   "source": [
    "%%sql\n"
   ]
  },
  {
   "cell_type": "markdown",
   "metadata": {},
   "source": [
    "e) How many students are registered in the database?"
   ]
  },
  {
   "cell_type": "code",
   "execution_count": null,
   "metadata": {
    "attributes": {
     "classes": [
      "clear"
     ],
     "id": ""
    }
   },
   "outputs": [],
   "source": [
    "%%sql\n"
   ]
  },
  {
   "cell_type": "markdown",
   "metadata": {},
   "source": [
    "f) Which courses are offered by the department of\n",
    "   Mathematics (their course codes have the form `FMAxxx`)?\n",
    "   [22]"
   ]
  },
  {
   "cell_type": "code",
   "execution_count": null,
   "metadata": {
    "attributes": {
     "classes": [
      "clear"
     ],
     "id": ""
    }
   },
   "outputs": [],
   "source": [
    "%%sql\n"
   ]
  },
  {
   "cell_type": "markdown",
   "metadata": {},
   "source": [
    "g) Which courses give more than 7.5 credits? [16]"
   ]
  },
  {
   "cell_type": "code",
   "execution_count": null,
   "metadata": {
    "attributes": {
     "classes": [
      "clear"
     ],
     "id": ""
    }
   },
   "outputs": [],
   "source": [
    "%%sql\n"
   ]
  },
  {
   "cell_type": "markdown",
   "metadata": {},
   "source": [
    "h) How may courses are there for each level (`G1`, `G2`, and\n",
    "   `A`)?"
   ]
  },
  {
   "cell_type": "code",
   "execution_count": null,
   "metadata": {
    "attributes": {
     "classes": [
      "clear"
     ],
     "id": ""
    }
   },
   "outputs": [],
   "source": [
    "%%sql\n"
   ]
  },
  {
   "cell_type": "markdown",
   "metadata": {},
   "source": [
    "i) Which courses (course codes only) have been taken by the\n",
    "   student with social security number 910101–1234? [35]"
   ]
  },
  {
   "cell_type": "code",
   "execution_count": null,
   "metadata": {
    "attributes": {
     "classes": [
      "clear"
     ],
     "id": ""
    }
   },
   "outputs": [],
   "source": [
    "%%sql\n"
   ]
  },
  {
   "cell_type": "markdown",
   "metadata": {},
   "source": [
    "j) What are the names of these courses, and how many credits\n",
    "   do they give?"
   ]
  },
  {
   "cell_type": "code",
   "execution_count": null,
   "metadata": {
    "attributes": {
     "classes": [
      "clear"
     ],
     "id": ""
    }
   },
   "outputs": [],
   "source": [
    "%%sql\n"
   ]
  },
  {
   "cell_type": "markdown",
   "metadata": {},
   "source": [
    "k) How many credits has the student taken?"
   ]
  },
  {
   "cell_type": "code",
   "execution_count": null,
   "metadata": {
    "attributes": {
     "classes": [
      "clear"
     ],
     "id": ""
    }
   },
   "outputs": [],
   "source": [
    "%%sql\n"
   ]
  },
  {
   "cell_type": "markdown",
   "metadata": {},
   "source": [
    "l) Which is the student’s grade average?"
   ]
  },
  {
   "cell_type": "code",
   "execution_count": null,
   "metadata": {
    "attributes": {
     "classes": [
      "clear"
     ],
     "id": ""
    }
   },
   "outputs": [],
   "source": [
    "%%sql\n"
   ]
  },
  {
   "cell_type": "markdown",
   "metadata": {},
   "source": [
    "m) Which students have taken 0 credits? [11]"
   ]
  },
  {
   "cell_type": "code",
   "execution_count": null,
   "metadata": {
    "attributes": {
     "classes": [
      "clear"
     ],
     "id": ""
    }
   },
   "outputs": [],
   "source": [
    "%%sql\n"
   ]
  },
  {
   "cell_type": "markdown",
   "metadata": {},
   "source": [
    "n) List the names and average grades of the 10 students with\n",
    "   the highest grade average?"
   ]
  },
  {
   "cell_type": "code",
   "execution_count": null,
   "metadata": {
    "attributes": {
     "classes": [
      "clear"
     ],
     "id": ""
    }
   },
   "outputs": [],
   "source": [
    "%%sql\n"
   ]
  },
  {
   "cell_type": "markdown",
   "metadata": {},
   "source": [
    "o) List the social security number and total number of\n",
    "   credits for all students. Students with no credits should\n",
    "   be included with 0 credits, not null. If you do this with\n",
    "   an outer join you might want to use the function\n",
    "   `COALESCE(v1, v2, ...)`; it returns the first value which\n",
    "   is not `NULL`. (It is a little bit tricky to get this\n",
    "   query right, if you're missing the students with 0\n",
    "   credits, don't worry, your TA will help you get it\n",
    "   right). [72]"
   ]
  },
  {
   "cell_type": "code",
   "execution_count": null,
   "metadata": {
    "attributes": {
     "classes": [
      "clear"
     ],
     "id": ""
    }
   },
   "outputs": [],
   "source": [
    "%%sql\n"
   ]
  },
  {
   "cell_type": "markdown",
   "metadata": {},
   "source": [
    "p) Is there more than one student with the same name? If so,\n",
    "   who are these students and what are their social security\n",
    "   numbers? [7]"
   ]
  },
  {
   "cell_type": "code",
   "execution_count": null,
   "metadata": {
    "attributes": {
     "classes": [
      "clear"
     ],
     "id": ""
    }
   },
   "outputs": [],
   "source": [
    "%%sql\n"
   ]
  },
  {
   "cell_type": "markdown",
   "metadata": {},
   "source": [
    "q) What 5 courses have the highest grade average?"
   ]
  },
  {
   "cell_type": "code",
   "execution_count": null,
   "metadata": {
    "attributes": {
     "classes": [
      "clear"
     ],
     "id": ""
    }
   },
   "outputs": [],
   "source": [
    "%%sql\n"
   ]
  },
  {
   "cell_type": "markdown",
   "metadata": {},
   "source": [
    "r) (Not required) What are the 'best' three first initial\n",
    "   letters of the last names, i.e., if you take the average\n",
    "   grades for each first letter of the last name, which\n",
    "   three initials have the highest averages?"
   ]
  },
  {
   "cell_type": "code",
   "execution_count": null,
   "metadata": {
    "attributes": {
     "classes": [
      "clear"
     ],
     "id": ""
    }
   },
   "outputs": [],
   "source": [
    "%%sql\n"
   ]
  }
 ],
 "metadata": {},
 "nbformat": 4,
 "nbformat_minor": 2
}